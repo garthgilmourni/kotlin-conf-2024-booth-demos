{
 "cells": [
  {
   "cell_type": "code",
   "metadata": {
    "collapsed": true,
    "ExecuteTime": {
     "end_time": "2024-05-20T14:15:44.090960Z",
     "start_time": "2024-05-20T14:15:43.983447Z"
    }
   },
   "source": "%use ktor-client\n",
   "outputs": [],
   "execution_count": 25
  },
  {
   "metadata": {
    "ExecuteTime": {
     "end_time": "2024-05-20T14:15:44.157951Z",
     "start_time": "2024-05-20T14:15:44.092216Z"
    }
   },
   "cell_type": "code",
   "source": [
    "import io.ktor.client.*\n",
    "\n",
    "fun buildClient(rootURL: String) = http.config {\n",
    "    defaultRequest {\n",
    "        url(rootURL)\n",
    "    }\n",
    "}"
   ],
   "outputs": [],
   "execution_count": 26
  },
  {
   "metadata": {
    "ExecuteTime": {
     "end_time": "2024-05-20T14:15:45.793349Z",
     "start_time": "2024-05-20T14:15:44.159451Z"
    }
   },
   "cell_type": "code",
   "source": [
    "val rootURL = \"https://api.stackexchange.com/2.3/users/\"\n",
    "val userID = \"2635682\"\n",
    "val client = buildClient(rootURL)\n",
    "\n",
    "val data = client\n",
    "    .get(\"$userID/questions?site=stackoverflow\")\n",
    "    .deserializeJson()"
   ],
   "outputs": [],
   "execution_count": 27
  },
  {
   "metadata": {
    "ExecuteTime": {
     "end_time": "2024-05-20T14:15:45.937694Z",
     "start_time": "2024-05-20T14:15:45.800219Z"
    }
   },
   "cell_type": "code",
   "source": [
    "val titles = data.items.map { it.title }\n",
    "titles.forEach(::println)"
   ],
   "outputs": [
    {
     "name": "stdout",
     "output_type": "stream",
     "text": [
      "Signature of lambda return types in TypeScript\n",
      "Can Spring Parse and Inject Properties Files?\n",
      "How to map multiple HTTP Verbs to the same path in HTTP4K\n",
      "JAX-RS Client using Server Side Events prints the same items without completing\n",
      "How to ensure Reactive Stream completes with Spring WebFlux and WebSockets\n",
      "Cannot use &#39;subscribe&#39; or &#39;subscribeWith&#39; with &#39;ReactorNettyWebSocketClient&#39; in Kotlin\n",
      "How to alter test object properties in KotlinTest via interceptTestCase\n",
      "Purpose of third argument to &#39;reduce&#39; function in Java 8 functional programming\n",
      "Can a Sequence Diagram realistically capture your logic in the same depth as code?\n"
     ]
    }
   ],
   "execution_count": 28
  },
  {
   "metadata": {
    "ExecuteTime": {
     "end_time": "2024-05-20T14:15:45.940903Z",
     "start_time": "2024-05-20T14:15:45.939062Z"
    }
   },
   "cell_type": "code",
   "source": "",
   "outputs": [],
   "execution_count": 29
  },
  {
   "metadata": {
    "ExecuteTime": {
     "end_time": "2024-05-20T14:15:45.944611Z",
     "start_time": "2024-05-20T14:15:45.942426Z"
    }
   },
   "cell_type": "code",
   "source": "",
   "outputs": [],
   "execution_count": 30
  }
 ],
 "metadata": {
  "kernelspec": {
   "display_name": "Kotlin",
   "language": "kotlin",
   "name": "kotlin"
  },
  "language_info": {
   "name": "kotlin",
   "version": "1.9.23",
   "mimetype": "text/x-kotlin",
   "file_extension": ".kt",
   "pygments_lexer": "kotlin",
   "codemirror_mode": "text/x-kotlin",
   "nbconvert_exporter": ""
  }
 },
 "nbformat": 4,
 "nbformat_minor": 0
}
